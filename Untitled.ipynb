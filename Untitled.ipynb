{
 "cells": [
  {
   "cell_type": "code",
   "execution_count": 2,
   "metadata": {},
   "outputs": [],
   "source": [
    "import os"
   ]
  },
  {
   "cell_type": "code",
   "execution_count": 3,
   "metadata": {},
   "outputs": [
    {
     "name": "stdout",
     "output_type": "stream",
     "text": [
      "- [ATAC seq](конспекты статей/ATAC seq)\n",
      "- [deepC](конспекты статей/deepC)\n",
      "- [DeepTACT](конспекты статей/DeepTACT)\n",
      "- [EpiTensor](конспекты статей/EpiTensor)\n",
      "- [ISP project report feb 2021](конспекты статей/ISP project report feb 2021)\n"
     ]
    }
   ],
   "source": [
    "directory = \"конспекты статей\"\n",
    "\n",
    "for namemd in os.listdir(directory):\n",
    "    name = namemd[:namemd.find(\".\")]\n",
    "#     print(f\"[{name}]({directory}/{name})\")\n",
    "    print(\"- [\" + name + \"](\" + directory + \"/\" + name + \")\")"
   ]
  },
  {
   "cell_type": "code",
   "execution_count": null,
   "metadata": {},
   "outputs": [],
   "source": []
  }
 ],
 "metadata": {
  "kernelspec": {
   "display_name": "Python 3",
   "language": "python",
   "name": "python3"
  },
  "language_info": {
   "codemirror_mode": {
    "name": "ipython",
    "version": 3
   },
   "file_extension": ".py",
   "mimetype": "text/x-python",
   "name": "python",
   "nbconvert_exporter": "python",
   "pygments_lexer": "ipython3",
   "version": "3.6.9"
  }
 },
 "nbformat": 4,
 "nbformat_minor": 2
}
