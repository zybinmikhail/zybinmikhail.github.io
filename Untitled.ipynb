{
 "cells": [
  {
   "cell_type": "code",
   "execution_count": 1,
   "metadata": {},
   "outputs": [],
   "source": [
    "import os"
   ]
  },
  {
   "cell_type": "code",
   "execution_count": 22,
   "metadata": {},
   "outputs": [
    {
     "name": "stdout",
     "output_type": "stream",
     "text": [
      "- [Ask&Guess culture](публичные конспекты/Ask&Guess culture)\n",
      "- [Brene Brown, The Gifts of Imperfection](публичные конспекты/Brene Brown, The Gifts of Imperfection)\n",
      "- [Do It Tomorrow](публичные конспекты/Do It Tomorrow)\n",
      "- [Linus Pauling](публичные конспекты/Linus Pauling)\n",
      "- [Max Daniel S risks  why they are the worst existential risks, and how to prevent them](публичные конспекты/Max Daniel S risks  why they are the worst existential risks, and how to prevent them)\n",
      "- [TEDx выступление Славы Полунина](публичные конспекты/TEDx выступление Славы Полунина)\n",
      "- [великий план Данилы Медведева](публичные конспекты/великий план Данилы Медведева)\n",
      "- [википедия о Германе Гессе](публичные конспекты/википедия о Германе Гессе)\n",
      "- [википедия о Тимоти Лири](публичные конспекты/википедия о Тимоти Лири)\n",
      "- [википедия о Френсисе Крике](публичные конспекты/википедия о Френсисе Крике)\n",
      "- [Все, что вы хотели знать про молекулярную биологию, но не удосужились спросить](публичные конспекты/Все, что вы хотели знать про молекулярную биологию, но не удосужились спросить)\n",
      "- [интервью Данилы и Пион у Мастридера](публичные конспекты/интервью Данилы и Пион у Мастридера)\n",
      "- [как спасти мир с помощью рационального мышления](публичные конспекты/как спасти мир с помощью рационального мышления)\n",
      "- [Медитация и рациональность](публичные конспекты/Медитация и рациональность)\n",
      "- [о-трансгендерности](публичные конспекты/о-трансгендерности)\n",
      "- [об-отдыхе](публичные конспекты/об-отдыхе)\n",
      "- [про Алесю Соколову](публичные конспекты/про Алесю Соколову)\n",
      "- [проблема идентичности и копий](публичные конспекты/проблема идентичности и копий)\n",
      "- [человек в поисках смысла](публичные конспекты/человек в поисках смысла)\n"
     ]
    }
   ],
   "source": [
    "directory = \"публичные конспекты\"\n",
    "\n",
    "for namemd in os.listdir(directory):\n",
    "    name = namemd[:namemd.find(\".\")]\n",
    "#     print(f\"[{name}]({directory}/{name})\")\n",
    "    print(\"- [\" + name + \"](\" + directory + \"/\" + name + \")\")"
   ]
  },
  {
   "cell_type": "code",
   "execution_count": null,
   "metadata": {},
   "outputs": [],
   "source": []
  }
 ],
 "metadata": {
  "kernelspec": {
   "display_name": "Python 3",
   "language": "python",
   "name": "python3"
  },
  "language_info": {
   "codemirror_mode": {
    "name": "ipython",
    "version": 3
   },
   "file_extension": ".py",
   "mimetype": "text/x-python",
   "name": "python",
   "nbconvert_exporter": "python",
   "pygments_lexer": "ipython3",
   "version": "3.6.9"
  }
 },
 "nbformat": 4,
 "nbformat_minor": 2
}
